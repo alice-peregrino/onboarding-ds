{
 "cells": [
  {
   "cell_type": "code",
   "execution_count": 1,
   "metadata": {},
   "outputs": [],
   "source": [
    "import sys\n",
    "sys.path.append('../')\n",
    "from src.features.build_features import FeatureExtractor\n",
    "import pandas as pd"
   ]
  },
  {
   "cell_type": "code",
   "execution_count": 2,
   "metadata": {},
   "outputs": [
    {
     "data": {
      "text/html": [
       "<div>\n",
       "<style scoped>\n",
       "    .dataframe tbody tr th:only-of-type {\n",
       "        vertical-align: middle;\n",
       "    }\n",
       "\n",
       "    .dataframe tbody tr th {\n",
       "        vertical-align: top;\n",
       "    }\n",
       "\n",
       "    .dataframe thead th {\n",
       "        text-align: right;\n",
       "    }\n",
       "</style>\n",
       "<table border=\"1\" class=\"dataframe\">\n",
       "  <thead>\n",
       "    <tr style=\"text-align: right;\">\n",
       "      <th></th>\n",
       "      <th>title</th>\n",
       "      <th>year</th>\n",
       "      <th>classification</th>\n",
       "      <th>duration</th>\n",
       "      <th>genre</th>\n",
       "      <th>rating</th>\n",
       "      <th>directors</th>\n",
       "      <th>stars</th>\n",
       "      <th>gross</th>\n",
       "    </tr>\n",
       "  </thead>\n",
       "  <tbody>\n",
       "    <tr>\n",
       "      <th>0</th>\n",
       "      <td>The Wolf of Wall Street</td>\n",
       "      <td>2013</td>\n",
       "      <td>R</td>\n",
       "      <td>180.0</td>\n",
       "      <td>Biography, Comedy, Crime</td>\n",
       "      <td>8.2</td>\n",
       "      <td>Martin Scorsese</td>\n",
       "      <td>Leonardo DiCaprio, Jonah Hill, Margot Robbie, ...</td>\n",
       "      <td>1466000</td>\n",
       "    </tr>\n",
       "    <tr>\n",
       "      <th>1</th>\n",
       "      <td>Back to the Future</td>\n",
       "      <td>1985</td>\n",
       "      <td>PG</td>\n",
       "      <td>116.0</td>\n",
       "      <td>Adventure, Comedy, Sci-Fi</td>\n",
       "      <td>8.5</td>\n",
       "      <td>Robert Zemeckis</td>\n",
       "      <td>Michael J. Fox, Christopher Lloyd, Lea Thompso...</td>\n",
       "      <td>1240810</td>\n",
       "    </tr>\n",
       "    <tr>\n",
       "      <th>2</th>\n",
       "      <td>Guardians of the Galaxy</td>\n",
       "      <td>2014</td>\n",
       "      <td>PG-13</td>\n",
       "      <td>121.0</td>\n",
       "      <td>Action, Adventure, Comedy</td>\n",
       "      <td>8.0</td>\n",
       "      <td>James Gunn</td>\n",
       "      <td>Chris Pratt, Vin Diesel, Bradley Cooper, Zoe S...</td>\n",
       "      <td>1221604</td>\n",
       "    </tr>\n",
       "    <tr>\n",
       "      <th>3</th>\n",
       "      <td>The Truman Show</td>\n",
       "      <td>1998</td>\n",
       "      <td>PG</td>\n",
       "      <td>103.0</td>\n",
       "      <td>Comedy, Drama</td>\n",
       "      <td>8.2</td>\n",
       "      <td>Peter Weir</td>\n",
       "      <td>Jim Carrey, Ed Harris, Laura Linney, Noah Emme...</td>\n",
       "      <td>1118964</td>\n",
       "    </tr>\n",
       "    <tr>\n",
       "      <th>4</th>\n",
       "      <td>Up</td>\n",
       "      <td>2009</td>\n",
       "      <td>PG</td>\n",
       "      <td>96.0</td>\n",
       "      <td>Animation, Adventure, Comedy</td>\n",
       "      <td>8.3</td>\n",
       "      <td>Pete Docter, Bob Peterson</td>\n",
       "      <td>Edward Asner, Jordan Nagai, John Ratzenberger,...</td>\n",
       "      <td>1071196</td>\n",
       "    </tr>\n",
       "  </tbody>\n",
       "</table>\n",
       "</div>"
      ],
      "text/plain": [
       "                     title  year classification  duration  \\\n",
       "0  The Wolf of Wall Street  2013              R     180.0   \n",
       "1       Back to the Future  1985             PG     116.0   \n",
       "2  Guardians of the Galaxy  2014          PG-13     121.0   \n",
       "3          The Truman Show  1998             PG     103.0   \n",
       "4                       Up  2009             PG      96.0   \n",
       "\n",
       "                          genre  rating                  directors  \\\n",
       "0      Biography, Comedy, Crime     8.2            Martin Scorsese   \n",
       "1     Adventure, Comedy, Sci-Fi     8.5            Robert Zemeckis   \n",
       "2     Action, Adventure, Comedy     8.0                 James Gunn   \n",
       "3                 Comedy, Drama     8.2                 Peter Weir   \n",
       "4  Animation, Adventure, Comedy     8.3  Pete Docter, Bob Peterson   \n",
       "\n",
       "                                               stars    gross  \n",
       "0  Leonardo DiCaprio, Jonah Hill, Margot Robbie, ...  1466000  \n",
       "1  Michael J. Fox, Christopher Lloyd, Lea Thompso...  1240810  \n",
       "2  Chris Pratt, Vin Diesel, Bradley Cooper, Zoe S...  1221604  \n",
       "3  Jim Carrey, Ed Harris, Laura Linney, Noah Emme...  1118964  \n",
       "4  Edward Asner, Jordan Nagai, John Ratzenberger,...  1071196  "
      ]
     },
     "execution_count": 2,
     "metadata": {},
     "output_type": "execute_result"
    }
   ],
   "source": [
    "dataframe = pd.read_csv('../data/interim/cleaned.csv')\n",
    "dataframe.head()"
   ]
  },
  {
   "cell_type": "code",
   "execution_count": 3,
   "metadata": {},
   "outputs": [],
   "source": [
    "feature_ext = FeatureExtractor(dataframe, cols_to_drop=['stars', 'directors', 'title', 'genre']) ## remover na função"
   ]
  },
  {
   "cell_type": "code",
   "execution_count": 4,
   "metadata": {},
   "outputs": [],
   "source": [
    "feature_ext.encode_genre_col()"
   ]
  },
  {
   "cell_type": "code",
   "execution_count": 5,
   "metadata": {},
   "outputs": [],
   "source": [
    "feature_ext.remove_cols()"
   ]
  },
  {
   "cell_type": "code",
   "execution_count": 6,
   "metadata": {},
   "outputs": [],
   "source": [
    "feature_ext.encode_classification_col()"
   ]
  },
  {
   "cell_type": "code",
   "execution_count": 7,
   "metadata": {},
   "outputs": [],
   "source": [
    "feature_ext.save_data()"
   ]
  }
 ],
 "metadata": {
  "kernelspec": {
   "display_name": "Python (timeseries)",
   "language": "python",
   "name": "timeseries"
  },
  "language_info": {
   "codemirror_mode": {
    "name": "ipython",
    "version": 3
   },
   "file_extension": ".py",
   "mimetype": "text/x-python",
   "name": "python",
   "nbconvert_exporter": "python",
   "pygments_lexer": "ipython3",
   "version": "3.9.16"
  }
 },
 "nbformat": 4,
 "nbformat_minor": 2
}
